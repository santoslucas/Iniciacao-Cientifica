{
 "cells": [
  {
   "cell_type": "code",
   "execution_count": null,
   "id": "4a56e4be",
   "metadata": {},
   "outputs": [],
   "source": [
    "import numpy as np\n",
    "import math\n",
    "import random"
   ]
  },
  {
   "cell_type": "markdown",
   "id": "17ad88db",
   "metadata": {},
   "source": [
    "Função-objetivo $f(x) = \\sum_{i=1}^{n} x_i^2$"
   ]
  },
  {
   "cell_type": "code",
   "execution_count": null,
   "id": "c297f6ac",
   "metadata": {
    "tags": []
   },
   "outputs": [],
   "source": [
    "def fquadratica(x):\n",
    "    return np.sum( x*x )"
   ]
  },
  {
   "cell_type": "markdown",
   "id": "9e5009ec-5b9c-4d7f-b157-ca042972c8cf",
   "metadata": {},
   "source": [
    "função quadrática $f(x) = \\sum_{i=1}^{n} x_i^2-3 x_i+5$\n",
    "    min: [1,5 ; 2,8]"
   ]
  },
  {
   "cell_type": "code",
   "execution_count": null,
   "id": "e2746e76-dde5-408d-90d0-b7af90ca3c9a",
   "metadata": {},
   "outputs": [],
   "source": [
    "def fparabola(x):\n",
    "    return np.sum(pow(x, 2) - 3*x + 5)"
   ]
  },
  {
   "cell_type": "markdown",
   "id": "8742354a-2a73-4c7e-b2cf-1ba205819d62",
   "metadata": {},
   "source": [
    "função multiplicação $f(x) = x*y*z$"
   ]
  },
  {
   "cell_type": "code",
   "execution_count": null,
   "id": "757b7b94-9ede-47a5-a617-7373f842dffb",
   "metadata": {},
   "outputs": [],
   "source": [
    "def fmultiplicacao(x):\n",
    "    return np.multiply(x)"
   ]
  },
  {
   "cell_type": "markdown",
   "id": "c1f5a794",
   "metadata": {},
   "source": [
    "Geração da população inicial:\n",
    "\n",
    "Parâmetros:\n",
    "- ps: tamanho da população\n",
    "- n: número de variáveis\n",
    "- lb, ub: limites inferior e superior para cada variável\n",
    "\n",
    "Saída:\n",
    "- parent_pop: população de pais (ps $\\times$ n)"
   ]
  },
  {
   "cell_type": "code",
   "execution_count": null,
   "id": "baea182c",
   "metadata": {},
   "outputs": [],
   "source": [
    "def pop_inicial(ps, n, lb, ub):\n",
    "    parent_pop = np.random.uniform(lb, ub, (ps, n))\n",
    "    return parent_pop"
   ]
  },
  {
   "cell_type": "markdown",
   "id": "2baba4bf",
   "metadata": {},
   "source": [
    "Avalia função-objetivo (fitness)\n",
    "\n",
    "Parâmetros:\n",
    "- fobj: função-objetivo\n",
    "- pop: população\n",
    "- ps: tamanho da população\n",
    "\n",
    "Saída:\n",
    "- pop_f: avaliação da população"
   ]
  },
  {
   "cell_type": "code",
   "execution_count": null,
   "id": "5e3d35dc",
   "metadata": {},
   "outputs": [],
   "source": [
    "def avalia_pop(fobj, pop, ps, num_avalia):\n",
    "    num_avalia += 1\n",
    "    pop_f = np.zeros(ps)\n",
    "    for i in range(ps):\n",
    "        pop_f[i] = fobj(pop[i])\n",
    "    return pop_f, num_avalia"
   ]
  },
  {
   "cell_type": "markdown",
   "id": "ff86259f",
   "metadata": {},
   "source": [
    "Seleção por torneio binário\n",
    "\n",
    "Parâmetros:\n",
    "- ps: tamanho da população\n",
    "- pop_f: avaliação da população\n",
    "\n",
    "Saída:\n",
    "- sel: pares de índices de soluções selecionadas (ps $\\times$ 2)"
   ]
  },
  {
   "cell_type": "code",
   "execution_count": null,
   "id": "828fae0e",
   "metadata": {},
   "outputs": [],
   "source": [
    "def torneio_binario(ps, pop_f):\n",
    "    ip1 = np.zeros(ps)\n",
    "    ip2 = np.zeros(ps)\n",
    "    \n",
    "    i11 = np.arange(0, ps)\n",
    "    np.random.shuffle(i11)\n",
    "    i12 = np.arange(0, ps)\n",
    "    np.random.shuffle(i12)\n",
    "    \n",
    "    i21 = np.arange(0, ps)\n",
    "    np.random.shuffle(i21)\n",
    "    i22 = np.arange(0, ps)\n",
    "    np.random.shuffle(i22)\n",
    "    \n",
    "    for i in range(ps):\n",
    "        if pop_f[ i11[i] ] < pop_f[ i12[i] ]:\n",
    "            ip1[i] = i11[i]\n",
    "        else:\n",
    "            ip1[i] = i12[i]\n",
    "        \n",
    "        if pop_f[ i21[i] ] < pop_f[ i22[i] ] and i21[i] != ip1[i]:\n",
    "            ip2[i] = i21[i]\n",
    "        elif ip2[i] != i22[i]:\n",
    "            ip2[i] = i22[i]\n",
    "        elif (i+1) < ps:\n",
    "            ip2[i] = i22[i+1]\n",
    "    \n",
    "    return np.stack((ip1, ip2)).astype(int)"
   ]
  },
  {
   "cell_type": "markdown",
   "id": "cdf60f34",
   "metadata": {},
   "source": [
    "Seleção por Classificação\n",
    "\n",
    "Parâmetros:\n",
    "- ps: tamanho da população\n",
    "- pop_f: avaliação da população\n",
    "\n",
    "Saída:\n",
    "- sel: índices de soluções selecionadas (ps $\\times$ 2)"
   ]
  },
  {
   "cell_type": "code",
   "execution_count": null,
   "id": "905441e1",
   "metadata": {},
   "outputs": [],
   "source": [
    "def classificacao(ps, pop_f):\n",
    "    si = np.argsort(pop_f)\n",
    "    sel = np.zeros(ps)\n",
    "\n",
    "    i=0\n",
    "    j=0\n",
    "\n",
    "    while i<ps:\n",
    "        rand = random.randint(0, 9)\n",
    "        if (j >= rand and si[j] != -1):\n",
    "            sel[i] = si[j]\n",
    "            si[j] = -1\n",
    "            i += 1\n",
    "        \n",
    "        j += 1\n",
    "\n",
    "        if j == ps:\n",
    "            j = 0\n",
    "\n",
    "    return sel"
   ]
  },
  {
   "cell_type": "markdown",
   "id": "23e817eb",
   "metadata": {},
   "source": [
    "Cruzamento via combinação linear\n",
    "\n",
    "Entrada:\n",
    "- pais: população de pais\n",
    "- ps: tamanho da população\n",
    "- n: número de variáveis\n",
    "- sel: índices de seleção\n",
    "\n",
    "Saída:\n",
    "- filhos: população de filhos (ps $\\times$ n)"
   ]
  },
  {
   "cell_type": "code",
   "execution_count": null,
   "id": "d18bca6a",
   "metadata": {},
   "outputs": [],
   "source": [
    "def cruzamento_linear(pais, ps, n, sel):\n",
    "    alpha = np.random.uniform(0, 1, ps)\n",
    "    filhos = np.zeros((ps, n))\n",
    "    for i in range(ps):\n",
    "        filhos[i] = alpha[i] * pais[ sel[0][i] ] + (1 - alpha[i]) * pais[ sel[1][i] ]\n",
    "    return filhos"
   ]
  },
  {
   "cell_type": "markdown",
   "id": "03e52411",
   "metadata": {},
   "source": [
    "Mutação Gaussiana\n",
    "- pop: população\n",
    "- ps: tamanho da população\n",
    "- n: número de variáveis\n",
    "- pm: probabilidade de mutação\n",
    "- std: desvio padrão da mutação\n",
    "\n",
    "Saída:\n",
    "- pop: população mutada"
   ]
  },
  {
   "cell_type": "code",
   "execution_count": null,
   "id": "fd2e4a63",
   "metadata": {},
   "outputs": [],
   "source": [
    "def mutacao_gaussiana(pop, ps, n, pm, std):\n",
    "    for i in range(ps):\n",
    "        if np.random.uniform() < pm:\n",
    "            pop[i] += np.random.normal(0, std, n)\n",
    "    return pop"
   ]
  },
  {
   "cell_type": "markdown",
   "id": "ea1dcb75",
   "metadata": {},
   "source": [
    "Mutação de inversão simples\n",
    "- pop: população\n",
    "- ps: tamanho da população\n",
    "- n: número de variáveis\n",
    "- pm: probabilidade de mutação\n",
    "\n",
    "Saída:\n",
    "- pop: população mutada"
   ]
  },
  {
   "cell_type": "code",
   "execution_count": null,
   "id": "d431e828",
   "metadata": {},
   "outputs": [],
   "source": [
    "def mutacao_inversao(pop, ps, n, pm):\n",
    "    for i in range(ps):\n",
    "        if np.random.uniform() < pm:\n",
    "            ponto1 = random.randint(1, n-1)\n",
    "            ponto2 = random.randint(1, n-1)\n",
    "\n",
    "            if ponto1 == ponto2:\n",
    "                break\n",
    "\n",
    "            if ponto2<ponto1:\n",
    "                aux = ponto1\n",
    "                ponto1 = ponto2\n",
    "                ponto2 = aux\n",
    "\n",
    "            j=ponto1\n",
    "            while j < (math.floor(ponto2/2)):\n",
    "                aux = pop[i][j]\n",
    "                pop[i][j] = pop[i][ponto2-j]\n",
    "                pop[i][ponto2-j] = aux\n",
    "                j+=1\n",
    "\n",
    "    return pop"
   ]
  },
  {
   "cell_type": "markdown",
   "id": "cb0995af-6488-4950-beb2-b8706ef018aa",
   "metadata": {},
   "source": [
    "Cruzamento por single-point\n",
    "\n",
    "- pais: população de pais\n",
    "- ps: tamanho da população\n",
    "- n: número de variáveis\n",
    "\n",
    "Saída:\n",
    "- filhos: população de filhos (ps $\\times$ n)"
   ]
  },
  {
   "cell_type": "code",
   "execution_count": null,
   "id": "12e2aec3-2654-46d9-a94b-ebc7ac41b4a1",
   "metadata": {},
   "outputs": [],
   "source": [
    "def cruzamento_1point(pais, ps, n, sel):\n",
    "    filhos = np.zeros((ps, n))\n",
    "    \n",
    "    i=0\n",
    "    while i < ps:\n",
    "        j = random.randint(0, n-1)\n",
    "        \n",
    "        aux = pais[int(sel[i])][j]\n",
    "        pais[int(sel[i])][j] = pais[int(sel[i+1])][j]\n",
    "        pais[int(sel[i+1])][j] = aux\n",
    "\n",
    "        filhos[i] = pais[int(sel[i])]\n",
    "        filhos[i+1] = pais[int(sel[i+1])]\n",
    "        i = i+2\n",
    "    \n",
    "    return filhos\n",
    "    "
   ]
  },
  {
   "cell_type": "markdown",
   "id": "15e453a0",
   "metadata": {},
   "source": [
    "Próxima população de pais\n",
    "\n",
    "Entrada:\n",
    "- pais: população de pais\n",
    "- pais_f: avaliação dos pais\n",
    "- filhos: população de filhos\n",
    "- filhos_f: avaliação dos filhos\n",
    "- ps: tamanho da população\n",
    "\n",
    "Saída:\n",
    "- pais: nova população de pais"
   ]
  },
  {
   "cell_type": "code",
   "execution_count": null,
   "id": "c07b451c",
   "metadata": {},
   "outputs": [],
   "source": [
    "def proximos_pais(pais, pais_f, filhos, filhos_f, ps):\n",
    "    pop = np.concatenate((pais, filhos))\n",
    "    pop_f = np.concatenate((pais_f, filhos_f))\n",
    "    \n",
    "    si = np.argsort(pop_f)\n",
    "    \n",
    "    best = pop[ si[0] ]\n",
    "    best_f = pop_f[ si[0] ]\n",
    "    \n",
    "    si = si[1:]\n",
    "    np.random.shuffle(si)\n",
    "    \n",
    "    pais[0], pais_f[0] = best, best_f\n",
    "    pais[1:], pais_f[1:] = pop[ si[0:ps-1] ], pop_f[ si[0:ps-1] ]\n",
    "    \n",
    "    return pais, pais_f"
   ]
  },
  {
   "cell_type": "markdown",
   "id": "ee9d61a1-2ed7-4a0e-ab02-c04f6d44030f",
   "metadata": {},
   "source": [
    "\n",
    "FUNÇÃO MAIN"
   ]
  },
  {
   "cell_type": "code",
   "execution_count": null,
   "id": "4ab9f4c7",
   "metadata": {
    "tags": []
   },
   "outputs": [],
   "source": [
    "# MAIN\n",
    "ps, n, lb, ub = 10, 3, -5, 5\n",
    "pm, std = 0.10, 0.01\n",
    "max_avalia = 500\n",
    "num_avalia = 0\n",
    "\n",
    "pais = pop_inicial(ps, n, lb, ub)\n",
    "print(pais)"
   ]
  },
  {
   "cell_type": "code",
   "execution_count": null,
   "id": "734d92e5",
   "metadata": {},
   "outputs": [],
   "source": [
    "pais_f, num_avalia = avalia_pop(fquadratica, pais, ps, num_avalia)\n",
    "print(pais_f)"
   ]
  },
  {
   "cell_type": "code",
   "execution_count": null,
   "id": "5e6f5af7-d9d9-4164-b833-35800bac5e01",
   "metadata": {},
   "outputs": [],
   "source": [
    "while(num_avalia != max_avalia):   \n",
    "    # seleção por meio de classificação\n",
    "    sel = classificacao(ps, pais_f)\n",
    "\n",
    "    # cruzamento\n",
    "    filhos = cruzamento_1point(pais, ps, n, sel)\n",
    "    filhos = mutacao_inversao(filhos, ps, n, pm)\n",
    "    filhos_f, num_avalia = avalia_pop(fquadratica, filhos, ps, num_avalia)\n",
    "    \n",
    "    # novos pais\n",
    "    pais, pais_f = proximos_pais(pais, pais_f, filhos, filhos_f, ps)"
   ]
  },
  {
   "cell_type": "code",
   "execution_count": null,
   "id": "d12cb420-9285-4270-a5f7-317d8625f805",
   "metadata": {},
   "outputs": [],
   "source": [
    "pais"
   ]
  },
  {
   "cell_type": "code",
   "execution_count": null,
   "id": "c786cf20-a6d3-4a03-b50a-68cfcc2d6807",
   "metadata": {},
   "outputs": [],
   "source": [
    "pais_f"
   ]
  },
  {
   "cell_type": "code",
   "execution_count": null,
   "id": "78aba757-1673-4420-a25e-116e0fcf2fbe",
   "metadata": {},
   "outputs": [],
   "source": [
    "print(\"Melhor solução encontrada: \", pais[0])\n",
    "print(\"Melhor avaliação: \", pais_f[0])\n",
    "print(\"Número de avaliações: \", num_avalia)"
   ]
  }
 ],
 "metadata": {
  "interpreter": {
   "hash": "665796ea3363072d3a6057ac2fdbe3c4fcb0d17a4b92295d9707f78e9c46c0af"
  },
  "kernelspec": {
   "display_name": "Python 3 (ipykernel)",
   "language": "python",
   "name": "python3"
  },
  "language_info": {
   "codemirror_mode": {
    "name": "ipython",
    "version": 3
   },
   "file_extension": ".py",
   "mimetype": "text/x-python",
   "name": "python",
   "nbconvert_exporter": "python",
   "pygments_lexer": "ipython3",
   "version": "3.9.7"
  }
 },
 "nbformat": 4,
 "nbformat_minor": 5
}
